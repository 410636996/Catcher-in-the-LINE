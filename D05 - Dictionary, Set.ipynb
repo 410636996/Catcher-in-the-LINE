{
 "cells": [
  {
   "cell_type": "code",
   "execution_count": 1,
   "metadata": {},
   "outputs": [
    {
     "data": {
      "text/plain": [
       "dict"
      ]
     },
     "execution_count": 1,
     "metadata": {},
     "output_type": "execute_result"
    }
   ],
   "source": [
    "ESWN_dict = {'東':  '前滾翻', '南': '後滾翻', '西': '前空翻', '北': '後空翻'}\n",
    "type(ESWN_dict)"
   ]
  },
  {
   "cell_type": "code",
   "execution_count": 2,
   "metadata": {},
   "outputs": [
    {
     "data": {
      "text/plain": [
       "{'亂': [1, 2, 3], 7: (4, 5, 6), 8: 8, '糟': 'bad', 'no': '重複的', '字典': '重複的'}"
      ]
     },
     "execution_count": 2,
     "metadata": {},
     "output_type": "execute_result"
    }
   ],
   "source": [
    "temp_dict = {'亂':  [1, 2, 3], \n",
    "             7: (4, 5, 6), \n",
    "             8: 8, \n",
    "             '糟': 'bad', \n",
    "             'no': '重複的', \n",
    "             ('字典'): '重複的'}\n",
    "temp_dict"
   ]
  },
  {
   "cell_type": "code",
   "execution_count": 3,
   "metadata": {},
   "outputs": [
    {
     "data": {
      "text/plain": [
       "{1: 2, 3: 4, 5: 6}"
      ]
     },
     "execution_count": 3,
     "metadata": {},
     "output_type": "execute_result"
    }
   ],
   "source": [
    "dict([[1, 2], \n",
    "      [3, 4], \n",
    "      [5, 6]])"
   ]
  },
  {
   "cell_type": "code",
   "execution_count": 4,
   "metadata": {},
   "outputs": [
    {
     "data": {
      "text/plain": [
       "{'a': '1', 'b': '2', 'c': '3', 'd': '4'}"
      ]
     },
     "execution_count": 4,
     "metadata": {},
     "output_type": "execute_result"
    }
   ],
   "source": [
    "dict(['a1', \n",
    "      'b2',\n",
    "      'c3', \n",
    "      'd4'])"
   ]
  },
  {
   "cell_type": "code",
   "execution_count": 5,
   "metadata": {},
   "outputs": [
    {
     "data": {
      "text/plain": [
       "'後空翻'"
      ]
     },
     "execution_count": 5,
     "metadata": {},
     "output_type": "execute_result"
    }
   ],
   "source": [
    "ESWN_dict['北']"
   ]
  },
  {
   "cell_type": "code",
   "execution_count": 6,
   "metadata": {},
   "outputs": [
    {
     "name": "stdout",
     "output_type": "stream",
     "text": [
      "keys\t: dict_keys(['東', '南', '西', '北'])\n",
      "values\t: dict_values(['前滾翻', '後滾翻', '前空翻', '後空翻'])\n",
      "items\t: dict_items([('東', '前滾翻'), ('南', '後滾翻'), ('西', '前空翻'), ('北', '後空翻')])\n"
     ]
    }
   ],
   "source": [
    "print('keys\\t:', ESWN_dict.keys())\n",
    "print('values\\t:', ESWN_dict.values())\n",
    "print('items\\t:', ESWN_dict.items())"
   ]
  },
  {
   "cell_type": "code",
   "execution_count": 7,
   "metadata": {},
   "outputs": [
    {
     "ename": "TypeError",
     "evalue": "'dict_keys' object is not subscriptable",
     "output_type": "error",
     "traceback": [
      "\u001b[1;31m---------------------------------------------------------------------------\u001b[0m",
      "\u001b[1;31mTypeError\u001b[0m                                 Traceback (most recent call last)",
      "\u001b[1;32m<ipython-input-7-17f4e9361812>\u001b[0m in \u001b[0;36m<module>\u001b[1;34m\u001b[0m\n\u001b[1;32m----> 1\u001b[1;33m \u001b[0mESWN_dict\u001b[0m\u001b[1;33m.\u001b[0m\u001b[0mkeys\u001b[0m\u001b[1;33m(\u001b[0m\u001b[1;33m)\u001b[0m\u001b[1;33m[\u001b[0m\u001b[1;36m0\u001b[0m\u001b[1;33m]\u001b[0m\u001b[1;33m\u001b[0m\u001b[1;33m\u001b[0m\u001b[0m\n\u001b[0m",
      "\u001b[1;31mTypeError\u001b[0m: 'dict_keys' object is not subscriptable"
     ]
    }
   ],
   "source": [
    "ESWN_dict.keys()[0]"
   ]
  },
  {
   "cell_type": "code",
   "execution_count": 8,
   "metadata": {},
   "outputs": [
    {
     "data": {
      "text/plain": [
       "<dict_keyiterator at 0x27bc7b9eae8>"
      ]
     },
     "execution_count": 8,
     "metadata": {},
     "output_type": "execute_result"
    }
   ],
   "source": [
    "iter(ESWN_dict.keys())"
   ]
  },
  {
   "cell_type": "code",
   "execution_count": 9,
   "metadata": {},
   "outputs": [
    {
     "data": {
      "text/plain": [
       "'後滾翻'"
      ]
     },
     "execution_count": 9,
     "metadata": {},
     "output_type": "execute_result"
    }
   ],
   "source": [
    "start = '西'\n",
    "steps = 87\n",
    "offset = steps % len(ESWN_dict.keys())\n",
    "ESWN_list = list(ESWN_dict.keys())\n",
    "final = ESWN_list[(ESWN_list.index(start)+offset) % len(ESWN_dict.keys())]\n",
    "ESWN_dict[final]"
   ]
  },
  {
   "cell_type": "code",
   "execution_count": null,
   "metadata": {},
   "outputs": [],
   "source": [
    "# 精簡版本\n",
    "start = '西'\n",
    "steps = 87\n",
    "ESWN_list = list(ESWN_dict.keys())\n",
    "final = ESWN_list[(ESWN_list.index(start)+steps) % len(ESWN_dict.keys())]\n",
    "ESWN_dict[final]"
   ]
  },
  {
   "cell_type": "code",
   "execution_count": 10,
   "metadata": {},
   "outputs": [
    {
     "data": {
      "text/plain": [
       "function"
      ]
     },
     "execution_count": 10,
     "metadata": {},
     "output_type": "execute_result"
    }
   ],
   "source": [
    "def ESWN_function(start, steps):\n",
    "    ESWN_list = list(ESWN_dict.keys())\n",
    "    final = ESWN_list[(ESWN_list.index(start)+steps) % len(ESWN_dict.keys())]\n",
    "    return ESWN_dict[final]\n",
    "type(ESWN_function)"
   ]
  },
  {
   "cell_type": "code",
   "execution_count": 11,
   "metadata": {},
   "outputs": [
    {
     "data": {
      "text/plain": [
       "'後滾翻'"
      ]
     },
     "execution_count": 11,
     "metadata": {},
     "output_type": "execute_result"
    }
   ],
   "source": [
    "ESWN_function('西', 87)"
   ]
  },
  {
   "cell_type": "code",
   "execution_count": 12,
   "metadata": {},
   "outputs": [],
   "source": [
    "ESWN_dict['中'] = '神通'"
   ]
  },
  {
   "cell_type": "code",
   "execution_count": 13,
   "metadata": {},
   "outputs": [
    {
     "data": {
      "text/plain": [
       "{'東': '前滾翻', '南': '後滾翻', '西': '前空翻', '北': '後空翻', '中': '神通'}"
      ]
     },
     "execution_count": 13,
     "metadata": {},
     "output_type": "execute_result"
    }
   ],
   "source": [
    "ESWN_dict"
   ]
  },
  {
   "cell_type": "code",
   "execution_count": 14,
   "metadata": {},
   "outputs": [
    {
     "data": {
      "text/plain": [
       "{'東': '前滾翻',\n",
       " '南': '後滾翻',\n",
       " '西': '前空翻',\n",
       " '北': '後空翻',\n",
       " '中': '神通',\n",
       " '東南': '啊？',\n",
       " '西南': '什麼？',\n",
       " '東北': '什麼啊？',\n",
       " '西北': '什麼啊啊啊？'}"
      ]
     },
     "execution_count": 14,
     "metadata": {},
     "output_type": "execute_result"
    }
   ],
   "source": [
    "more_direction = {'東南':'啊？', '西南':'什麼？', '東北':'什麼啊？', '西北':'什麼啊啊啊？'}\n",
    "ESWN_dict.update(more_direction)\n",
    "ESWN_dict"
   ]
  },
  {
   "cell_type": "code",
   "execution_count": 15,
   "metadata": {},
   "outputs": [
    {
     "data": {
      "text/plain": [
       "{'東': '前滾翻', '南': '後滾翻', '西': '前空翻', '北': '後空翻'}"
      ]
     },
     "execution_count": 15,
     "metadata": {},
     "output_type": "execute_result"
    }
   ],
   "source": [
    "del ESWN_dict['中']\n",
    "del ESWN_dict['東南']\n",
    "del ESWN_dict['西南']\n",
    "del ESWN_dict['東北']\n",
    "del ESWN_dict['西北']\n",
    "ESWN_dict"
   ]
  },
  {
   "cell_type": "code",
   "execution_count": 16,
   "metadata": {},
   "outputs": [
    {
     "name": "stdout",
     "output_type": "stream",
     "text": [
      "List\t: ['O', 'O', 'O', 'O', 'O', 'O', 'O', 'O', 'P', 'S', '!', '!', '!', '!']\n",
      "Set\t: {'O', 'S', '!', 'P'}\n"
     ]
    }
   ],
   "source": [
    "temp_str = 'OOOOOOOOPS!!!!'\n",
    "print('List\\t:', list(temp_str))\n",
    "print('Set\\t:', set(temp_str))"
   ]
  },
  {
   "cell_type": "code",
   "execution_count": 17,
   "metadata": {},
   "outputs": [
    {
     "data": {
      "text/plain": [
       "{'!', 'O', 'P', 'S'}"
      ]
     },
     "execution_count": 17,
     "metadata": {},
     "output_type": "execute_result"
    }
   ],
   "source": [
    "temp_set = {'O', 'O', 'P', 'S', '!', '!'}\n",
    "temp_set"
   ]
  },
  {
   "cell_type": "code",
   "execution_count": 18,
   "metadata": {},
   "outputs": [
    {
     "data": {
      "text/plain": [
       "True"
      ]
     },
     "execution_count": 18,
     "metadata": {},
     "output_type": "execute_result"
    }
   ],
   "source": [
    "'O' in temp_set"
   ]
  },
  {
   "cell_type": "code",
   "execution_count": 19,
   "metadata": {},
   "outputs": [],
   "source": [
    "前空翻大師 = {'法蘭克', '藍能', '吉姆', '約翰'}\n",
    "後空翻大師 = {'威廉', '吉姆', '彼得', '大衛', '藍能'}"
   ]
  },
  {
   "cell_type": "code",
   "execution_count": 20,
   "metadata": {},
   "outputs": [
    {
     "data": {
      "text/plain": [
       "4"
      ]
     },
     "execution_count": 20,
     "metadata": {},
     "output_type": "execute_result"
    }
   ],
   "source": [
    "len(前空翻大師)"
   ]
  },
  {
   "cell_type": "code",
   "execution_count": 21,
   "metadata": {},
   "outputs": [
    {
     "data": {
      "text/plain": [
       "{'吉姆', '藍能'}"
      ]
     },
     "execution_count": 21,
     "metadata": {},
     "output_type": "execute_result"
    }
   ],
   "source": [
    "前空翻大師 & 後空翻大師"
   ]
  },
  {
   "cell_type": "code",
   "execution_count": 22,
   "metadata": {},
   "outputs": [
    {
     "data": {
      "text/plain": [
       "{'法蘭克', '約翰'}"
      ]
     },
     "execution_count": 22,
     "metadata": {},
     "output_type": "execute_result"
    }
   ],
   "source": [
    "前空翻大師 - 後空翻大師"
   ]
  },
  {
   "cell_type": "code",
   "execution_count": 23,
   "metadata": {},
   "outputs": [
    {
     "data": {
      "text/plain": [
       "{'大衛', '威廉', '彼得', '法蘭克', '約翰'}"
      ]
     },
     "execution_count": 23,
     "metadata": {},
     "output_type": "execute_result"
    }
   ],
   "source": [
    "前空翻大師 ^ 後空翻大師"
   ]
  },
  {
   "cell_type": "code",
   "execution_count": 24,
   "metadata": {},
   "outputs": [
    {
     "data": {
      "text/plain": [
       "{'吉姆', '大衛', '威廉', '彼得', '法蘭克', '約翰', '藍能'}"
      ]
     },
     "execution_count": 24,
     "metadata": {},
     "output_type": "execute_result"
    }
   ],
   "source": [
    "前空翻大師 | 後空翻大師"
   ]
  },
  {
   "cell_type": "code",
   "execution_count": 25,
   "metadata": {},
   "outputs": [
    {
     "data": {
      "text/plain": [
       "{'吉姆', '大衛', '威廉', '彼得', '藍能', '藍道'}"
      ]
     },
     "execution_count": 25,
     "metadata": {},
     "output_type": "execute_result"
    }
   ],
   "source": [
    "後空翻大師 |= {'藍道'}\n",
    "後空翻大師"
   ]
  }
 ],
 "metadata": {
  "kernelspec": {
   "display_name": "Python 3",
   "language": "python",
   "name": "python3"
  },
  "language_info": {
   "codemirror_mode": {
    "name": "ipython",
    "version": 3
   },
   "file_extension": ".py",
   "mimetype": "text/x-python",
   "name": "python",
   "nbconvert_exporter": "python",
   "pygments_lexer": "ipython3",
   "version": "3.7.4"
  }
 },
 "nbformat": 4,
 "nbformat_minor": 2
}

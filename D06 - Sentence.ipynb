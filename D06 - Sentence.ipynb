{
 "cells": [
  {
   "cell_type": "code",
   "execution_count": 1,
   "metadata": {},
   "outputs": [
    {
     "name": "stdout",
     "output_type": "stream",
     "text": [
      "An even number. Not a prime number.\n"
     ]
    }
   ],
   "source": [
    "number = 10\n",
    "if number % 2 == 0:\n",
    "    print('An even number. Not a prime number.')\n",
    "else:\n",
    "    print('An odd number.') "
   ]
  },
  {
   "cell_type": "code",
   "execution_count": 2,
   "metadata": {},
   "outputs": [
    {
     "name": "stdout",
     "output_type": "stream",
     "text": [
      "明天還得繼續來上班...\n",
      "繼續為草泥馬的伙食費打拼...\n"
     ]
    }
   ],
   "source": [
    "我中了樂透 = False\n",
    "if 我中了樂透:\n",
    "    print('明天我就不來上班了！')\n",
    "    print('而且不用再擔心草泥馬的伙食費了！')\n",
    "else:\n",
    "    print('明天還得繼續來上班...')\n",
    "    print('繼續為草泥馬的伙食費打拼...')"
   ]
  },
  {
   "cell_type": "code",
   "execution_count": 3,
   "metadata": {},
   "outputs": [
    {
     "name": "stdout",
     "output_type": "stream",
     "text": [
      "明天還得繼續去投注站報到...\n",
      "有買有希望！\n",
      "...\n",
      "不管如何，日子總要繼續過下去。\n"
     ]
    }
   ],
   "source": [
    "我中了樂透 = False\n",
    "這期開出頭彩 = False\n",
    "if 我中了樂透:\n",
    "    print('明天我就不來上班了！')\n",
    "    print('而且不用再擔心草泥馬的伙食費了！')\n",
    "elif 這期開出頭彩:\n",
    "    print('明天還得繼續來上班...')\n",
    "    print('繼續為草泥馬的伙食費打拼...')    \n",
    "else:\n",
    "    print('明天還得繼續去投注站報到...')\n",
    "    print('有買有希望！')\n",
    "print('...')\n",
    "print('不管如何，日子總要繼續過下去。')"
   ]
  },
  {
   "cell_type": "code",
   "execution_count": 4,
   "metadata": {},
   "outputs": [
    {
     "name": "stdout",
     "output_type": "stream",
     "text": [
      "草尼馬低頭聊天第 1 次\n",
      "草尼馬低頭聊天第 2 次\n",
      "草尼馬低頭聊天第 3 次\n",
      "草尼馬低頭聊天第 4 次\n",
      "草尼馬低頭聊天第 5 次\n",
      "草尼馬低頭聊天第 6 次\n",
      "草尼馬低頭聊天第 7 次\n",
      "草尼馬低頭聊天第 8 次\n",
      "草尼馬低頭聊天第 9 次\n",
      "草尼馬低頭聊天第 10 次\n"
     ]
    }
   ],
   "source": [
    "我的耐心 = 10\n",
    "竊竊私語 = 0\n",
    "while 我的耐心:\n",
    "    竊竊私語 += 1\n",
    "    print('草尼馬低頭聊天第', 竊竊私語, '次')\n",
    "    我的耐心 -= 1"
   ]
  },
  {
   "cell_type": "code",
   "execution_count": 5,
   "metadata": {},
   "outputs": [
    {
     "name": "stdout",
     "output_type": "stream",
     "text": [
      "草尼馬低頭聊天第 1 次\n",
      "草尼馬低頭聊天第 2 次\n",
      "草尼馬低頭聊天第 3 次\n",
      "草尼馬低頭聊天第 4 次\n",
      "草尼馬低頭聊天第 5 次\n",
      "草尼馬低頭聊天第 6 次\n",
      "草尼馬低頭聊天第 7 次\n",
      "草尼馬低頭聊天第 8 次\n",
      "草尼馬低頭聊天第 9 次\n",
      "草尼馬低頭聊天第 10 次\n",
      "草尼馬低頭聊天第 11 次\n",
      "草尼馬低頭聊天第 12 次\n",
      "草尼馬低頭聊天第 13 次\n",
      "草尼馬低頭聊天第 14 次\n",
      "草尼馬低頭聊天第 15 次\n",
      "草尼馬低頭聊天第 16 次\n",
      "==無用學習==\n"
     ]
    }
   ],
   "source": [
    "合作夥伴的耐心 = 10\n",
    "竊竊私語 = 0\n",
    "while 合作夥伴的耐心:\n",
    "    竊竊私語 += 1\n",
    "    print('草尼馬低頭聊天第', 竊竊私語, '次')\n",
    "    if 竊竊私語 > 15:\n",
    "        print('==無用學習==')\n",
    "        break"
   ]
  },
  {
   "cell_type": "code",
   "execution_count": 6,
   "metadata": {},
   "outputs": [
    {
     "name": "stdout",
     "output_type": "stream",
     "text": [
      "草尼馬低頭聊天第 1 次\n",
      "草尼馬低頭聊天第 2 次\n",
      "草尼馬低頭聊天第 3 次\n",
      "草尼馬低頭聊天第 4 次\n",
      "草尼馬低頭聊天第 5 次\n",
      "草尼馬低頭聊天第 6 次\n",
      "草尼馬低頭聊天第 7 次\n",
      "草尼馬低頭聊天第 8 次\n",
      "草尼馬低頭聊天第 9 次\n",
      "草尼馬低頭聊天第 10 次\n",
      "我的耐心用完了...\n"
     ]
    }
   ],
   "source": [
    "我的耐心 = 10\n",
    "竊竊私語 = 0\n",
    "while 我的耐心:\n",
    "    竊竊私語 += 1\n",
    "    print('草尼馬低頭聊天第', 竊竊私語, '次')\n",
    "    我的耐心 -= 1\n",
    "else:\n",
    "    print('我的耐心用完了...')"
   ]
  },
  {
   "cell_type": "code",
   "execution_count": 7,
   "metadata": {},
   "outputs": [
    {
     "name": "stdout",
     "output_type": "stream",
     "text": [
      "草尼馬低頭聊天第 1 次\n",
      "草尼馬低頭聊天第 2 次\n",
      "草尼馬低頭聊天第 3 次\n",
      "草尼馬低頭聊天第 4 次\n",
      "草尼馬低頭聊天第 5 次\n",
      "草尼馬低頭聊天第 6 次\n",
      "草尼馬低頭聊天第 7 次\n",
      "草尼馬低頭聊天第 8 次\n",
      "草尼馬低頭聊天第 9 次\n",
      "草尼馬低頭聊天第 10 次\n",
      "草尼馬低頭聊天第 11 次\n",
      "草尼馬低頭聊天第 12 次\n",
      "草尼馬低頭聊天第 13 次\n",
      "草尼馬低頭聊天第 14 次\n",
      "草尼馬低頭聊天第 15 次\n",
      "草尼馬低頭聊天第 16 次\n",
      "==無用學習==\n"
     ]
    }
   ],
   "source": [
    "合作夥伴的耐心 = 10\n",
    "竊竊私語 = 0\n",
    "while 合作夥伴的耐心:\n",
    "    竊竊私語 += 1\n",
    "    print('草尼馬低頭聊天第', 竊竊私語, '次')\n",
    "    if 竊竊私語 > 15:\n",
    "        print('==無用學習==')\n",
    "        break\n",
    "else:\n",
    "    print('合作夥伴的耐心用完了...')"
   ]
  },
  {
   "cell_type": "code",
   "execution_count": 8,
   "metadata": {},
   "outputs": [
    {
     "name": "stdout",
     "output_type": "stream",
     "text": [
      "4\n",
      "6\n",
      "7\n",
      "8\n",
      "9\n",
      "10\n"
     ]
    }
   ],
   "source": [
    "prime_list = [2, 3, 5]\n",
    "n = 2\n",
    "while n <= 10:\n",
    "    if n in prime_list:\n",
    "        pass\n",
    "    else:\n",
    "        print(n)\n",
    "    n += 1"
   ]
  },
  {
   "cell_type": "code",
   "execution_count": 9,
   "metadata": {},
   "outputs": [
    {
     "name": "stdout",
     "output_type": "stream",
     "text": [
      "4\n",
      "6\n",
      "7\n",
      "8\n",
      "9\n",
      "10\n"
     ]
    }
   ],
   "source": [
    "prime_list = [2, 3, 5]\n",
    "n = 2\n",
    "while n <= 10:\n",
    "    if n not in prime_list:\n",
    "        print(n)\n",
    "    n += 1"
   ]
  },
  {
   "cell_type": "code",
   "execution_count": 10,
   "metadata": {},
   "outputs": [
    {
     "name": "stdout",
     "output_type": "stream",
     "text": [
      "4\n",
      "6\n",
      "7\n",
      "8\n",
      "9\n",
      "10\n"
     ]
    }
   ],
   "source": [
    "prime_list = [2, 3, 5]\n",
    "n = 1\n",
    "while n < 10:\n",
    "    n += 1\n",
    "    if n in prime_list:\n",
    "        continue\n",
    "    print(n)"
   ]
  },
  {
   "cell_type": "code",
   "execution_count": 11,
   "metadata": {},
   "outputs": [
    {
     "name": "stdout",
     "output_type": "stream",
     "text": [
      "prime_list 中的第 1 個數字: 2\n",
      "prime_list 中的第 2 個數字: 3\n",
      "prime_list 中的第 3 個數字: 5\n"
     ]
    }
   ],
   "source": [
    "prime_list = [2, 3, 5]\n",
    "n = 1\n",
    "for i in prime_list:\n",
    "    print('prime_list 中的第', n, '個數字:', i)\n",
    "    n +=1"
   ]
  },
  {
   "cell_type": "code",
   "execution_count": 12,
   "metadata": {},
   "outputs": [
    {
     "name": "stdout",
     "output_type": "stream",
     "text": [
      "prime_list 中的第 1 個數字: 2\n",
      "prime_list 中的第 2 個數字: 3\n",
      "prime_list 中的第 3 個數字: 5\n"
     ]
    }
   ],
   "source": [
    "prime_list = [2, 3, 5]\n",
    "for n, i in enumerate(prime_list, 1):\n",
    "    print('prime_list 中的第', n, '個數字:', i)"
   ]
  },
  {
   "cell_type": "code",
   "execution_count": 13,
   "metadata": {},
   "outputs": [
    {
     "name": "stdout",
     "output_type": "stream",
     "text": [
      "0\n",
      "1\n",
      "4\n",
      "6\n",
      "7\n",
      "8\n",
      "9\n",
      "10\n"
     ]
    }
   ],
   "source": [
    "for i in range(11):\n",
    "    if i not in prime_list:\n",
    "        print(i)"
   ]
  },
  {
   "cell_type": "code",
   "execution_count": 14,
   "metadata": {},
   "outputs": [
    {
     "name": "stdout",
     "output_type": "stream",
     "text": [
      "4\n",
      "6\n",
      "7\n",
      "8\n",
      "9\n",
      "10\n"
     ]
    }
   ],
   "source": [
    "for i in range(2, 11):\n",
    "    if i not in prime_list:\n",
    "        print(i)"
   ]
  },
  {
   "cell_type": "code",
   "execution_count": 15,
   "metadata": {},
   "outputs": [
    {
     "data": {
      "text/plain": [
       "[2,\n",
       " 3,\n",
       " 5,\n",
       " 7,\n",
       " 11,\n",
       " 13,\n",
       " 17,\n",
       " 19,\n",
       " 23,\n",
       " 29,\n",
       " 31,\n",
       " 37,\n",
       " 41,\n",
       " 43,\n",
       " 47,\n",
       " 53,\n",
       " 59,\n",
       " 61,\n",
       " 67,\n",
       " 71,\n",
       " 73,\n",
       " 79,\n",
       " 83,\n",
       " 89,\n",
       " 97]"
      ]
     },
     "execution_count": 15,
     "metadata": {},
     "output_type": "execute_result"
    }
   ],
   "source": [
    "start = 2\n",
    "end = 100\n",
    "prime_list = []\n",
    "for i in range(start, end+1):\n",
    "    j = 1\n",
    "    while j < int(i**0.5):\n",
    "        j += 1\n",
    "        if i % j == 0:\n",
    "            break\n",
    "    else:\n",
    "        prime_list.append(i)\n",
    "        \n",
    "prime_list"
   ]
  },
  {
   "cell_type": "code",
   "execution_count": 16,
   "metadata": {},
   "outputs": [],
   "source": [
    "def find_prime(end, start=2):\n",
    "    prime_list = []\n",
    "    for i in range(start, end+1):\n",
    "        j = 1\n",
    "        while j < int(i**0.5):\n",
    "            j += 1\n",
    "            if i % j == 0:\n",
    "                break\n",
    "        else:\n",
    "            prime_list.append(i)\n",
    "    return prime_list"
   ]
  },
  {
   "cell_type": "code",
   "execution_count": 17,
   "metadata": {},
   "outputs": [
    {
     "data": {
      "text/plain": [
       "[2,\n",
       " 3,\n",
       " 5,\n",
       " 7,\n",
       " 11,\n",
       " 13,\n",
       " 17,\n",
       " 19,\n",
       " 23,\n",
       " 29,\n",
       " 31,\n",
       " 37,\n",
       " 41,\n",
       " 43,\n",
       " 47,\n",
       " 53,\n",
       " 59,\n",
       " 61,\n",
       " 67,\n",
       " 71,\n",
       " 73,\n",
       " 79,\n",
       " 83,\n",
       " 89,\n",
       " 97]"
      ]
     },
     "execution_count": 17,
     "metadata": {},
     "output_type": "execute_result"
    }
   ],
   "source": [
    "find_prime(100)"
   ]
  }
 ],
 "metadata": {
  "kernelspec": {
   "display_name": "Python 3",
   "language": "python",
   "name": "python3"
  },
  "language_info": {
   "codemirror_mode": {
    "name": "ipython",
    "version": 3
   },
   "file_extension": ".py",
   "mimetype": "text/x-python",
   "name": "python",
   "nbconvert_exporter": "python",
   "pygments_lexer": "ipython3",
   "version": "3.7.4"
  }
 },
 "nbformat": 4,
 "nbformat_minor": 2
}

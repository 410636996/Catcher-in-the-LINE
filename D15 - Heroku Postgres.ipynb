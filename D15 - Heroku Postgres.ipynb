{
 "cells": [
  {
   "cell_type": "markdown",
   "metadata": {},
   "source": [
    "# 標準 psycopg2 流程"
   ]
  },
  {
   "cell_type": "code",
   "execution_count": null,
   "metadata": {},
   "outputs": [],
   "source": [
    "import os\n",
    "import psycopg2\n",
    "\n",
    "DATABASE_URL = os.popen('heroku config:get DATABASE_URL -a 你-APP-的名字').read()[:-1]\n",
    "\n",
    "conn = psycopg2.connect(DATABASE_URL, sslmode='require')\n",
    "cursor = conn.cursor()\n",
    "\n",
    "SQL_order = '''我們輸入 SQL 指令的位置'''\n",
    "\n",
    "cursor.execute(SQL_order)\n",
    "conn.commit()\n",
    "\n",
    "cursor.close()\n",
    "conn.close()"
   ]
  },
  {
   "cell_type": "markdown",
   "metadata": {},
   "source": [
    "# 標準 psycopg2 流程：新增表格(table)"
   ]
  },
  {
   "cell_type": "code",
   "execution_count": null,
   "metadata": {},
   "outputs": [],
   "source": [
    "import os\n",
    "import psycopg2\n",
    "\n",
    "DATABASE_URL = os.popen('heroku config:get DATABASE_URL -a 你-APP-的名字').read()[:-1]\n",
    "\n",
    "conn = psycopg2.connect(DATABASE_URL, sslmode='require')\n",
    "cursor = conn.cursor()\n",
    "\n",
    "create_table_query = '''CREATE TABLE account(\n",
    "   user_id serial PRIMARY KEY,\n",
    "   username VARCHAR (50) UNIQUE NOT NULL,\n",
    "   password VARCHAR (50) NOT NULL,\n",
    "   email VARCHAR (355) UNIQUE NOT NULL,\n",
    "   created_on TIMESTAMP NOT NULL,\n",
    "   last_login TIMESTAMP\n",
    ");'''\n",
    "    \n",
    "cursor.execute(create_table_query)\n",
    "conn.commit()\n",
    "\n",
    "cursor.close()\n",
    "conn.close()"
   ]
  },
  {
   "cell_type": "code",
   "execution_count": null,
   "metadata": {},
   "outputs": [],
   "source": [
    "import os\n",
    "import psycopg2\n",
    "\n",
    "DATABASE_URL = os.popen('heroku config:get DATABASE_URL -a 你-APP-的名字').read()[:-1]\n",
    "\n",
    "conn = psycopg2.connect(DATABASE_URL, sslmode='require')\n",
    "cursor = conn.cursor()\n",
    "\n",
    "create_table_query = '''CREATE TABLE alpaca_training(\n",
    "   record_no serial PRIMARY KEY,\n",
    "   alpaca_name VARCHAR (50) NOT NULL,\n",
    "   training VARCHAR (50) NOT NULL,\n",
    "   duration INTERVAL NOT NULL,\n",
    "   date DATE NOT NULL\n",
    ");'''\n",
    "    \n",
    "cursor.execute(create_table_query)\n",
    "conn.commit()\n",
    "\n",
    "cursor.close()\n",
    "conn.close()"
   ]
  },
  {
   "cell_type": "markdown",
   "metadata": {},
   "source": [
    "# 標準 psycopg2 流程：查詢表格欄位(column)"
   ]
  },
  {
   "cell_type": "code",
   "execution_count": null,
   "metadata": {},
   "outputs": [],
   "source": [
    "import os\n",
    "import psycopg2\n",
    "\n",
    "DATABASE_URL = os.popen('heroku config:get DATABASE_URL -a 你-APP-的名字').read()[:-1]\n",
    "\n",
    "conn = psycopg2.connect(DATABASE_URL, sslmode='require')\n",
    "cursor = conn.cursor()\n",
    "\n",
    "cursor.execute(\"SELECT column_name, data_type FROM information_schema.columns WHERE table_name = 'alpaca_training'\")"
   ]
  },
  {
   "cell_type": "code",
   "execution_count": null,
   "metadata": {},
   "outputs": [],
   "source": [
    "data = []\n",
    "while True:\n",
    "    temp = cursor.fetchone()\n",
    "    if temp:\n",
    "        data.append(temp)\n",
    "    else:\n",
    "        break\n",
    "print(data)"
   ]
  },
  {
   "cell_type": "markdown",
   "metadata": {},
   "source": [
    "# 標準 psycopg2 流程：刪除表格"
   ]
  },
  {
   "cell_type": "code",
   "execution_count": null,
   "metadata": {},
   "outputs": [],
   "source": [
    "import os\n",
    "import psycopg2\n",
    "\n",
    "DATABASE_URL = os.popen('heroku config:get DATABASE_URL -a 你-APP-的名字').read()[:-1]\n",
    "\n",
    "conn = psycopg2.connect(DATABASE_URL, sslmode='require')\n",
    "cursor = conn.cursor()\n",
    "\n",
    "delete_table_query = '''DROP TABLE IF EXISTS alpaca_training'''\n",
    "\n",
    "cursor.execute(delete_table_query)\n",
    "conn.commit()"
   ]
  }
 ],
 "metadata": {
  "kernelspec": {
   "display_name": "Python 3",
   "language": "python",
   "name": "python3"
  },
  "language_info": {
   "codemirror_mode": {
    "name": "ipython",
    "version": 3
   },
   "file_extension": ".py",
   "mimetype": "text/x-python",
   "name": "python",
   "nbconvert_exporter": "python",
   "pygments_lexer": "ipython3",
   "version": "3.7.4"
  }
 },
 "nbformat": 4,
 "nbformat_minor": 2
}

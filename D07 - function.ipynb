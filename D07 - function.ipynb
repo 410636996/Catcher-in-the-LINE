{
 "cells": [
  {
   "cell_type": "markdown",
   "metadata": {},
   "source": [
    "# D07: function"
   ]
  },
  {
   "cell_type": "code",
   "execution_count": 1,
   "metadata": {},
   "outputs": [],
   "source": [
    "import numpy as np"
   ]
  },
  {
   "cell_type": "markdown",
   "metadata": {},
   "source": [
    "## np.random"
   ]
  },
  {
   "cell_type": "code",
   "execution_count": 2,
   "metadata": {},
   "outputs": [],
   "source": [
    "def 骰子():\n",
    "    點數 = np.ceil(np.random.rand()*6).astype(int)\n",
    "    return 點數"
   ]
  },
  {
   "cell_type": "code",
   "execution_count": 3,
   "metadata": {},
   "outputs": [],
   "source": [
    "def 骰子():\n",
    "    return np.ceil(np.random.rand()*6).astype(int)"
   ]
  },
  {
   "cell_type": "code",
   "execution_count": 4,
   "metadata": {},
   "outputs": [
    {
     "data": {
      "text/plain": [
       "6"
      ]
     },
     "execution_count": 4,
     "metadata": {},
     "output_type": "execute_result"
    }
   ],
   "source": [
    "骰子()"
   ]
  },
  {
   "cell_type": "markdown",
   "metadata": {},
   "source": [
    "## List comprehension"
   ]
  },
  {
   "cell_type": "code",
   "execution_count": 5,
   "metadata": {},
   "outputs": [
    {
     "data": {
      "text/plain": [
       "[4, 6, 3, 6, 6, 5, 5, 2, 6, 6]"
      ]
     },
     "execution_count": 5,
     "metadata": {},
     "output_type": "execute_result"
    }
   ],
   "source": [
    "dice_list = []\n",
    "for i in range(10):\n",
    "    dice_list.append(骰子())\n",
    "dice_list"
   ]
  },
  {
   "cell_type": "code",
   "execution_count": 6,
   "metadata": {},
   "outputs": [
    {
     "data": {
      "text/plain": [
       "[4, 5, 6, 2, 5, 5, 5, 4, 4, 4]"
      ]
     },
     "execution_count": 6,
     "metadata": {},
     "output_type": "execute_result"
    }
   ],
   "source": [
    "[骰子() for i in range(10)]"
   ]
  },
  {
   "cell_type": "code",
   "execution_count": 7,
   "metadata": {},
   "outputs": [
    {
     "data": {
      "text/plain": [
       "[100, 100, 100, 100, 100, 100, 100, 100, 100, 100]"
      ]
     },
     "execution_count": 7,
     "metadata": {},
     "output_type": "execute_result"
    }
   ],
   "source": [
    "這裡 = 100\n",
    "可數數物件 = range(10)\n",
    "[這裡 for 標籤 in 可數數物件]"
   ]
  },
  {
   "cell_type": "code",
   "execution_count": 8,
   "metadata": {},
   "outputs": [
    {
     "data": {
      "text/plain": [
       "[0, 1, 4, 9, 16, 25, 36, 49, 64, 81]"
      ]
     },
     "execution_count": 8,
     "metadata": {},
     "output_type": "execute_result"
    }
   ],
   "source": [
    "可數數物件 = range(10)\n",
    "[標籤 ** 2 for 標籤 in 可數數物件]"
   ]
  },
  {
   "cell_type": "markdown",
   "metadata": {},
   "source": [
    "## Lambda function"
   ]
  },
  {
   "cell_type": "code",
   "execution_count": 9,
   "metadata": {},
   "outputs": [],
   "source": [
    "def 一堆骰子(骰子數量):\n",
    "    return [骰子() for i in range(骰子數量)]"
   ]
  },
  {
   "cell_type": "code",
   "execution_count": 10,
   "metadata": {},
   "outputs": [
    {
     "data": {
      "text/plain": [
       "[3, 2, 1, 2, 3, 3]"
      ]
     },
     "execution_count": 10,
     "metadata": {},
     "output_type": "execute_result"
    }
   ],
   "source": [
    "一堆骰子(6)"
   ]
  },
  {
   "cell_type": "code",
   "execution_count": 11,
   "metadata": {},
   "outputs": [],
   "source": [
    "LAMBDA的一堆骰子 = lambda 骰子數量: [骰子() for i in range(骰子數量)]"
   ]
  },
  {
   "cell_type": "code",
   "execution_count": 12,
   "metadata": {},
   "outputs": [
    {
     "data": {
      "text/plain": [
       "[1, 2, 4, 5, 4, 6]"
      ]
     },
     "execution_count": 12,
     "metadata": {},
     "output_type": "execute_result"
    }
   ],
   "source": [
    "LAMBDA的一堆骰子(6)"
   ]
  },
  {
   "cell_type": "code",
   "execution_count": 13,
   "metadata": {},
   "outputs": [],
   "source": [
    "def 一堆骰子(骰子數量):\n",
    "    return {f'骰子{i}': 骰子() for i in range(1, 骰子數量+1)}"
   ]
  },
  {
   "cell_type": "code",
   "execution_count": 14,
   "metadata": {},
   "outputs": [
    {
     "data": {
      "text/plain": [
       "{'骰子1': 4, '骰子2': 1, '骰子3': 5, '骰子4': 3, '骰子5': 1, '骰子6': 3}"
      ]
     },
     "execution_count": 14,
     "metadata": {},
     "output_type": "execute_result"
    }
   ],
   "source": [
    "一堆骰子(6)"
   ]
  },
  {
   "cell_type": "code",
   "execution_count": 15,
   "metadata": {},
   "outputs": [],
   "source": [
    "def 一堆骰子一直擲(骰子數量, 擲幾次):\n",
    "    return [{f'骰子{i}': 骰子() for i in range(1, 骰子數量+1)} for j in range(擲幾次)]"
   ]
  },
  {
   "cell_type": "code",
   "execution_count": 16,
   "metadata": {},
   "outputs": [
    {
     "data": {
      "text/plain": [
       "[{'骰子1': 4, '骰子2': 3, '骰子3': 3},\n",
       " {'骰子1': 2, '骰子2': 6, '骰子3': 1},\n",
       " {'骰子1': 6, '骰子2': 1, '骰子3': 4},\n",
       " {'骰子1': 2, '骰子2': 1, '骰子3': 1}]"
      ]
     },
     "execution_count": 16,
     "metadata": {},
     "output_type": "execute_result"
    }
   ],
   "source": [
    "一堆骰子一直擲(3, 4)"
   ]
  },
  {
   "cell_type": "code",
   "execution_count": 17,
   "metadata": {},
   "outputs": [
    {
     "data": {
      "text/plain": [
       "[{'骰子1': 4, '骰子2': 2, '骰子3': 2},\n",
       " {'骰子1': 6, '骰子2': 5, '骰子3': 4},\n",
       " {'骰子1': 1, '骰子2': 5, '骰子3': 5},\n",
       " {'骰子1': 5, '骰子2': 4, '骰子3': 4}]"
      ]
     },
     "execution_count": 17,
     "metadata": {},
     "output_type": "execute_result"
    }
   ],
   "source": [
    "一堆骰子一直擲(擲幾次=4, 骰子數量=3)"
   ]
  },
  {
   "cell_type": "code",
   "execution_count": 18,
   "metadata": {},
   "outputs": [
    {
     "data": {
      "text/plain": [
       "[{'骰子1': 2, '骰子2': 6, '骰子3': 5},\n",
       " {'骰子1': 3, '骰子2': 2, '骰子3': 1},\n",
       " {'骰子1': 6, '骰子2': 2, '骰子3': 2},\n",
       " {'骰子1': 3, '骰子2': 4, '骰子3': 6}]"
      ]
     },
     "execution_count": 18,
     "metadata": {},
     "output_type": "execute_result"
    }
   ],
   "source": [
    "一堆骰子一直擲(3, 擲幾次=4)"
   ]
  },
  {
   "cell_type": "code",
   "execution_count": 19,
   "metadata": {},
   "outputs": [
    {
     "ename": "SyntaxError",
     "evalue": "positional argument follows keyword argument (<ipython-input-19-a709ba2623c1>, line 1)",
     "output_type": "error",
     "traceback": [
      "\u001b[1;36m  File \u001b[1;32m\"<ipython-input-19-a709ba2623c1>\"\u001b[1;36m, line \u001b[1;32m1\u001b[0m\n\u001b[1;33m    一堆骰子一直擲(骰子數量=3, 4)\u001b[0m\n\u001b[1;37m                      \n^\u001b[0m\n\u001b[1;31mSyntaxError\u001b[0m\u001b[1;31m:\u001b[0m positional argument follows keyword argument\n"
     ]
    }
   ],
   "source": [
    "一堆骰子一直擲(骰子數量=3, 4)"
   ]
  },
  {
   "cell_type": "code",
   "execution_count": 20,
   "metadata": {},
   "outputs": [],
   "source": [
    "def CRAPS(擲幾次, 骰子數量=2):\n",
    "    return [{f'骰子{i}': 骰子() for i in range(1, 骰子數量+1)} for j in range(擲幾次)]"
   ]
  },
  {
   "cell_type": "code",
   "execution_count": 21,
   "metadata": {},
   "outputs": [
    {
     "data": {
      "text/plain": [
       "[{'骰子1': 5, '骰子2': 4},\n",
       " {'骰子1': 6, '骰子2': 5},\n",
       " {'骰子1': 5, '骰子2': 6},\n",
       " {'骰子1': 6, '骰子2': 2},\n",
       " {'骰子1': 2, '骰子2': 6}]"
      ]
     },
     "execution_count": 21,
     "metadata": {},
     "output_type": "execute_result"
    }
   ],
   "source": [
    "CRAPS(5)"
   ]
  },
  {
   "cell_type": "code",
   "execution_count": 22,
   "metadata": {},
   "outputs": [
    {
     "data": {
      "text/plain": [
       "[{'骰子1': 5,\n",
       "  '骰子2': 2,\n",
       "  '骰子3': 6,\n",
       "  '骰子4': 1,\n",
       "  '骰子5': 2,\n",
       "  '骰子6': 5,\n",
       "  '骰子7': 2,\n",
       "  '骰子8': 6,\n",
       "  '骰子9': 2,\n",
       "  '骰子10': 3}]"
      ]
     },
     "execution_count": 22,
     "metadata": {},
     "output_type": "execute_result"
    }
   ],
   "source": [
    "CRAPS(1, 10)"
   ]
  },
  {
   "cell_type": "code",
   "execution_count": 23,
   "metadata": {},
   "outputs": [],
   "source": [
    "def CRAPS(擲幾次, 骰子數量=2):\n",
    "    CRAPS_list = [{f'骰子{i}': 骰子() for i in range(1, 骰子數量+1)} for j in range(擲幾次)]\n",
    "    return ['Lucky Seven!!' if sum(i.values())==7 else i for i in CRAPS_list]"
   ]
  },
  {
   "cell_type": "code",
   "execution_count": 24,
   "metadata": {},
   "outputs": [
    {
     "data": {
      "text/plain": [
       "[{'骰子1': 2, '骰子2': 1},\n",
       " 'Lucky Seven!!',\n",
       " {'骰子1': 6, '骰子2': 4},\n",
       " {'骰子1': 5, '骰子2': 1},\n",
       " 'Lucky Seven!!',\n",
       " {'骰子1': 5, '骰子2': 1},\n",
       " {'骰子1': 4, '骰子2': 6},\n",
       " {'骰子1': 4, '骰子2': 2},\n",
       " {'骰子1': 6, '骰子2': 2},\n",
       " {'骰子1': 6, '骰子2': 4}]"
      ]
     },
     "execution_count": 24,
     "metadata": {},
     "output_type": "execute_result"
    }
   ],
   "source": [
    "CRAPS(10)"
   ]
  },
  {
   "cell_type": "code",
   "execution_count": 25,
   "metadata": {},
   "outputs": [],
   "source": [
    "def CRAPS(擲幾次, 骰子數量=2):\n",
    "    CRAPS_list = [{f'骰子{i}': 骰子() for i in range(1, 骰子數量+1)} for j in range(擲幾次)]\n",
    "    return ['Lucky Seven!!' if sum(i.values())==7 \n",
    "            else 'CRAPS!!' if sum(i.values())==2 \n",
    "            else i for i in CRAPS_list]"
   ]
  },
  {
   "cell_type": "code",
   "execution_count": 26,
   "metadata": {},
   "outputs": [
    {
     "data": {
      "text/plain": [
       "[{'骰子1': 6, '骰子2': 4},\n",
       " {'骰子1': 4, '骰子2': 2},\n",
       " 'Lucky Seven!!',\n",
       " {'骰子1': 6, '骰子2': 5},\n",
       " {'骰子1': 3, '骰子2': 1},\n",
       " {'骰子1': 1, '骰子2': 3},\n",
       " {'骰子1': 3, '骰子2': 3},\n",
       " 'Lucky Seven!!',\n",
       " {'骰子1': 1, '骰子2': 3},\n",
       " {'骰子1': 5, '骰子2': 1},\n",
       " {'骰子1': 1, '骰子2': 4},\n",
       " {'骰子1': 2, '骰子2': 3},\n",
       " 'Lucky Seven!!',\n",
       " {'骰子1': 6, '骰子2': 2},\n",
       " {'骰子1': 1, '骰子2': 3},\n",
       " {'骰子1': 5, '骰子2': 4},\n",
       " {'骰子1': 2, '骰子2': 6},\n",
       " {'骰子1': 6, '骰子2': 6},\n",
       " {'骰子1': 3, '骰子2': 3},\n",
       " {'骰子1': 1, '骰子2': 5}]"
      ]
     },
     "execution_count": 26,
     "metadata": {},
     "output_type": "execute_result"
    }
   ],
   "source": [
    "CRAPS(20)"
   ]
  }
 ],
 "metadata": {
  "kernelspec": {
   "display_name": "Python 3",
   "language": "python",
   "name": "python3"
  },
  "language_info": {
   "codemirror_mode": {
    "name": "ipython",
    "version": 3
   },
   "file_extension": ".py",
   "mimetype": "text/x-python",
   "name": "python",
   "nbconvert_exporter": "python",
   "pygments_lexer": "ipython3",
   "version": "3.7.4"
  }
 },
 "nbformat": 4,
 "nbformat_minor": 2
}
